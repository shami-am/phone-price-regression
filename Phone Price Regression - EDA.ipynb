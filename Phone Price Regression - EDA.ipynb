{
 "cells": [
  {
   "cell_type": "markdown",
   "id": "93fa6299",
   "metadata": {},
   "source": [
    "# Phone Price Regression EDA"
   ]
  },
  {
   "cell_type": "markdown",
   "id": "ed8811ad",
   "metadata": {},
   "source": [
    "## Setup"
   ]
  },
  {
   "cell_type": "code",
   "execution_count": 7,
   "id": "b6fe7c3b",
   "metadata": {},
   "outputs": [],
   "source": [
    "import pandas as pd\n",
    "import numpy as np"
   ]
  },
  {
   "cell_type": "markdown",
   "id": "24aa6cb2",
   "metadata": {},
   "source": [
    "## Get the data"
   ]
  },
  {
   "cell_type": "code",
   "execution_count": 11,
   "id": "d7ef70be",
   "metadata": {},
   "outputs": [],
   "source": [
    "df = pd.read_csv('Original Data.csv')"
   ]
  },
  {
   "cell_type": "markdown",
   "id": "ef0720f5",
   "metadata": {},
   "source": [
    "## Drop unneeded columns"
   ]
  },
  {
   "cell_type": "code",
   "execution_count": 9,
   "id": "5268c350",
   "metadata": {},
   "outputs": [],
   "source": [
    "to_be_dropped = ['Model', 'Chipset', 'Graphics', 'RAM Type', 'Pixel Density', 'Screen Protection', 'Bezel-less display',\n",
    "                 'Sensor', 'OIS', 'Settings', 'Shooting Modes', 'Camera Features', 'SIM Size', 'SIM 1', 'SIM 2',\n",
    "                 'Wi-Fi Features', 'USB Connectivity', 'Audio Features', 'Other Sensors', 'HDR 10 / HDR+ support', 'Ruggedness',\n",
    "                 'Video Recording Features', 'Wi-Fi Calling', 'Stereo Speakers', 'Physical Aperture', 'Co-Processor',\n",
    "                 'Applications', 'HDMI', 'Display Colour', 'Ring Tone', 'Music', 'Games', 'Browser', 'Phone Book',\n",
    "                 'Other Facilities', 'Stylus', 'Video Player', 'Special Features', 'Email', 'Fabrication', 'TalkTime',\n",
    "                 'Audio Jack', 'SAR Value', 'Colours', 'Resolution', 'Screen to Body Ratio (claimed by the brand)',\n",
    "                 'Fingerprint Sensor Position', 'Fingerprint Sensor Type', 'USB OTG', 'Video Recording', 'Custom UI',\n",
    "                 'Aspect Ratio', 'Brightness', 'Standby time', 'Camera Type', 'Network', 'SMS', 'MMS', 'IRIS Scanner',\n",
    "                 'Software Based Aperture', 'Mobile High-Definition Link(MHL)', 'Instant Messaging', 'Infrared Sensor',\n",
    "                 'Fingerprint Sensor Customization', 'SIM 3']"
   ]
  },
  {
   "cell_type": "code",
   "execution_count": 10,
   "id": "6484702c",
   "metadata": {},
   "outputs": [],
   "source": [
    "df = df.drop(to_be_dropped, axis=1, errors='ignore')"
   ]
  },
  {
   "cell_type": "markdown",
   "id": "36400a71",
   "metadata": {},
   "source": [
    "## Data Summary"
   ]
  },
  {
   "cell_type": "code",
   "execution_count": 10,
   "id": "5770ce9f",
   "metadata": {
    "scrolled": false
   },
   "outputs": [
    {
     "data": {
      "text/html": [
       "<div>\n",
       "<style scoped>\n",
       "    .dataframe tbody tr th:only-of-type {\n",
       "        vertical-align: middle;\n",
       "    }\n",
       "\n",
       "    .dataframe tbody tr th {\n",
       "        vertical-align: top;\n",
       "    }\n",
       "\n",
       "    .dataframe thead th {\n",
       "        text-align: right;\n",
       "    }\n",
       "</style>\n",
       "<table border=\"1\" class=\"dataframe\">\n",
       "  <thead>\n",
       "    <tr style=\"text-align: right;\">\n",
       "      <th></th>\n",
       "      <th>Brand</th>\n",
       "      <th>Price</th>\n",
       "      <th>Launch Date</th>\n",
       "      <th>Operating System</th>\n",
       "      <th>CPU</th>\n",
       "      <th>Architecture</th>\n",
       "      <th>RAM</th>\n",
       "      <th>Display Type</th>\n",
       "      <th>Screen Size</th>\n",
       "      <th>Screen to Body Ratio (calculated)</th>\n",
       "      <th>...</th>\n",
       "      <th>Wi-Fi</th>\n",
       "      <th>Bluetooth</th>\n",
       "      <th>GPS</th>\n",
       "      <th>NFC</th>\n",
       "      <th>FM Radio</th>\n",
       "      <th>Loudspeaker</th>\n",
       "      <th>Fingerprint Sensor</th>\n",
       "      <th>Waterproof</th>\n",
       "      <th>Wireless Charging</th>\n",
       "      <th>Heart Rate Monitor</th>\n",
       "    </tr>\n",
       "  </thead>\n",
       "  <tbody>\n",
       "    <tr>\n",
       "      <th>0</th>\n",
       "      <td>Samsung</td>\n",
       "      <td>17,999</td>\n",
       "      <td>February 16, 2021 (Official)</td>\n",
       "      <td>Android v11</td>\n",
       "      <td>Octa core (2.73 GHz, Dual core + 2.4 GHz, Dual...</td>\n",
       "      <td>64 bit</td>\n",
       "      <td>6 GB\\r\\n                                      ...</td>\n",
       "      <td>Super AMOLED Plus</td>\n",
       "      <td>6.7 inches (17.02 cm)</td>\n",
       "      <td>86.66 %</td>\n",
       "      <td>...</td>\n",
       "      <td>Yes, Wi-Fi 802.11, ac/b/g/n/n 5GHz</td>\n",
       "      <td>Yes, v5.0</td>\n",
       "      <td>Yes with A-GPS, Glonass</td>\n",
       "      <td>Yes</td>\n",
       "      <td>Yes, Recording option</td>\n",
       "      <td>Yes</td>\n",
       "      <td>Yes</td>\n",
       "      <td>NaN</td>\n",
       "      <td>NaN</td>\n",
       "      <td>NaN</td>\n",
       "    </tr>\n",
       "    <tr>\n",
       "      <th>1</th>\n",
       "      <td>Xiaomi</td>\n",
       "      <td>11,999</td>\n",
       "      <td>September 7, 2021 (Official)</td>\n",
       "      <td>Android v11</td>\n",
       "      <td>Octa core (2 GHz, Dual core, Cortex A75 + 1.8 ...</td>\n",
       "      <td>64 bit</td>\n",
       "      <td>4 GB\\r\\n                                      ...</td>\n",
       "      <td>IPS LCD</td>\n",
       "      <td>6.5 inches (16.51 cm)</td>\n",
       "      <td>83.45 %</td>\n",
       "      <td>...</td>\n",
       "      <td>Yes, Wi-Fi 802.11, a/ac/b/g/n/n 5GHz</td>\n",
       "      <td>Yes, v5.1</td>\n",
       "      <td>Yes with A-GPS, Glonass</td>\n",
       "      <td>No</td>\n",
       "      <td>Yes</td>\n",
       "      <td>Yes</td>\n",
       "      <td>Yes</td>\n",
       "      <td>Yes, Splash proof</td>\n",
       "      <td>NaN</td>\n",
       "      <td>NaN</td>\n",
       "    </tr>\n",
       "    <tr>\n",
       "      <th>2</th>\n",
       "      <td>Samsung</td>\n",
       "      <td>12,999</td>\n",
       "      <td>June 28, 2021 (Official)</td>\n",
       "      <td>Android v11</td>\n",
       "      <td>Octa core (2 GHz, Dual core, Cortex A75 + 1.8 ...</td>\n",
       "      <td>64 bit</td>\n",
       "      <td>4 GB\\r\\n                                      ...</td>\n",
       "      <td>Super AMOLED</td>\n",
       "      <td>6.4 inches (16.26 cm)</td>\n",
       "      <td>83.89 %</td>\n",
       "      <td>...</td>\n",
       "      <td>Yes, Wi-Fi 802.11, a/ac/b/g/n/n 5GHz</td>\n",
       "      <td>Yes, v5.0</td>\n",
       "      <td>Yes with A-GPS, Glonass</td>\n",
       "      <td>No</td>\n",
       "      <td>NaN</td>\n",
       "      <td>Yes</td>\n",
       "      <td>Yes</td>\n",
       "      <td>NaN</td>\n",
       "      <td>NaN</td>\n",
       "      <td>NaN</td>\n",
       "    </tr>\n",
       "    <tr>\n",
       "      <th>3</th>\n",
       "      <td>Realme</td>\n",
       "      <td>13,199</td>\n",
       "      <td>September 11, 2021 (Official)</td>\n",
       "      <td>Android v11</td>\n",
       "      <td>Octa core (2.05 GHz, Dual core, Cortex A76 + 2...</td>\n",
       "      <td>64 bit</td>\n",
       "      <td>4 GB\\r\\n                                      ...</td>\n",
       "      <td>IPS LCD</td>\n",
       "      <td>6.6 inches (16.76 cm)</td>\n",
       "      <td>84.88 %</td>\n",
       "      <td>...</td>\n",
       "      <td>Yes, Wi-Fi 802.11, a/ac/b/g/n/n 5GHz</td>\n",
       "      <td>Yes, v5.1</td>\n",
       "      <td>Yes with A-GPS, Glonass</td>\n",
       "      <td>No</td>\n",
       "      <td>NaN</td>\n",
       "      <td>Yes</td>\n",
       "      <td>Yes</td>\n",
       "      <td>NaN</td>\n",
       "      <td>NaN</td>\n",
       "      <td>NaN</td>\n",
       "    </tr>\n",
       "    <tr>\n",
       "      <th>4</th>\n",
       "      <td>Xiaomi</td>\n",
       "      <td>13,999</td>\n",
       "      <td>May 15, 2021 (Official)</td>\n",
       "      <td>Android v11</td>\n",
       "      <td>Octa core (2.05 GHz, Dual core, Cortex A76 + 2...</td>\n",
       "      <td>64 bit</td>\n",
       "      <td>6 GB\\r\\n                                      ...</td>\n",
       "      <td>AMOLED</td>\n",
       "      <td>6.43 inches (16.33 cm)</td>\n",
       "      <td>83.53 %</td>\n",
       "      <td>...</td>\n",
       "      <td>Yes, Wi-Fi 802.11, ac/b/g/n/n 5GHz</td>\n",
       "      <td>Yes, v5.0</td>\n",
       "      <td>Yes with A-GPS, Glonass</td>\n",
       "      <td>No</td>\n",
       "      <td>NaN</td>\n",
       "      <td>Yes</td>\n",
       "      <td>Yes</td>\n",
       "      <td>Yes, Splash proof, IP53</td>\n",
       "      <td>NaN</td>\n",
       "      <td>NaN</td>\n",
       "    </tr>\n",
       "  </tbody>\n",
       "</table>\n",
       "<p>5 rows × 43 columns</p>\n",
       "</div>"
      ],
      "text/plain": [
       "     Brand    Price                    Launch Date Operating System  \\\n",
       "0  Samsung   17,999   February 16, 2021 (Official)      Android v11   \n",
       "1   Xiaomi   11,999   September 7, 2021 (Official)      Android v11   \n",
       "2  Samsung   12,999       June 28, 2021 (Official)      Android v11   \n",
       "3   Realme   13,199  September 11, 2021 (Official)      Android v11   \n",
       "4   Xiaomi   13,999        May 15, 2021 (Official)      Android v11   \n",
       "\n",
       "                                                 CPU Architecture  \\\n",
       "0  Octa core (2.73 GHz, Dual core + 2.4 GHz, Dual...       64 bit   \n",
       "1  Octa core (2 GHz, Dual core, Cortex A75 + 1.8 ...       64 bit   \n",
       "2  Octa core (2 GHz, Dual core, Cortex A75 + 1.8 ...       64 bit   \n",
       "3  Octa core (2.05 GHz, Dual core, Cortex A76 + 2...       64 bit   \n",
       "4  Octa core (2.05 GHz, Dual core, Cortex A76 + 2...       64 bit   \n",
       "\n",
       "                                                 RAM       Display Type  \\\n",
       "0  6 GB\\r\\n                                      ...  Super AMOLED Plus   \n",
       "1  4 GB\\r\\n                                      ...            IPS LCD   \n",
       "2  4 GB\\r\\n                                      ...       Super AMOLED   \n",
       "3  4 GB\\r\\n                                      ...            IPS LCD   \n",
       "4  6 GB\\r\\n                                      ...             AMOLED   \n",
       "\n",
       "              Screen Size Screen to Body Ratio (calculated)  ...  \\\n",
       "0   6.7 inches (17.02 cm)                           86.66 %  ...   \n",
       "1   6.5 inches (16.51 cm)                           83.45 %  ...   \n",
       "2   6.4 inches (16.26 cm)                           83.89 %  ...   \n",
       "3   6.6 inches (16.76 cm)                           84.88 %  ...   \n",
       "4  6.43 inches (16.33 cm)                           83.53 %  ...   \n",
       "\n",
       "                                  Wi-Fi  Bluetooth                      GPS  \\\n",
       "0    Yes, Wi-Fi 802.11, ac/b/g/n/n 5GHz  Yes, v5.0  Yes with A-GPS, Glonass   \n",
       "1  Yes, Wi-Fi 802.11, a/ac/b/g/n/n 5GHz  Yes, v5.1  Yes with A-GPS, Glonass   \n",
       "2  Yes, Wi-Fi 802.11, a/ac/b/g/n/n 5GHz  Yes, v5.0  Yes with A-GPS, Glonass   \n",
       "3  Yes, Wi-Fi 802.11, a/ac/b/g/n/n 5GHz  Yes, v5.1  Yes with A-GPS, Glonass   \n",
       "4    Yes, Wi-Fi 802.11, ac/b/g/n/n 5GHz  Yes, v5.0  Yes with A-GPS, Glonass   \n",
       "\n",
       "   NFC               FM Radio Loudspeaker Fingerprint Sensor  \\\n",
       "0  Yes  Yes, Recording option         Yes                Yes   \n",
       "1   No                    Yes         Yes                Yes   \n",
       "2   No                    NaN         Yes                Yes   \n",
       "3   No                    NaN         Yes                Yes   \n",
       "4   No                    NaN         Yes                Yes   \n",
       "\n",
       "                Waterproof Wireless Charging Heart Rate Monitor  \n",
       "0                      NaN               NaN                NaN  \n",
       "1        Yes, Splash proof               NaN                NaN  \n",
       "2                      NaN               NaN                NaN  \n",
       "3                      NaN               NaN                NaN  \n",
       "4  Yes, Splash proof, IP53               NaN                NaN  \n",
       "\n",
       "[5 rows x 43 columns]"
      ]
     },
     "execution_count": 10,
     "metadata": {},
     "output_type": "execute_result"
    }
   ],
   "source": [
    "df.head()"
   ]
  },
  {
   "cell_type": "code",
   "execution_count": 11,
   "id": "487e7cd5",
   "metadata": {},
   "outputs": [
    {
     "data": {
      "text/html": [
       "<div>\n",
       "<style scoped>\n",
       "    .dataframe tbody tr th:only-of-type {\n",
       "        vertical-align: middle;\n",
       "    }\n",
       "\n",
       "    .dataframe tbody tr th {\n",
       "        vertical-align: top;\n",
       "    }\n",
       "\n",
       "    .dataframe thead th {\n",
       "        text-align: right;\n",
       "    }\n",
       "</style>\n",
       "<table border=\"1\" class=\"dataframe\">\n",
       "  <thead>\n",
       "    <tr style=\"text-align: right;\">\n",
       "      <th></th>\n",
       "      <th>Brand</th>\n",
       "      <th>Price</th>\n",
       "      <th>Launch Date</th>\n",
       "      <th>Operating System</th>\n",
       "      <th>CPU</th>\n",
       "      <th>Architecture</th>\n",
       "      <th>RAM</th>\n",
       "      <th>Display Type</th>\n",
       "      <th>Screen Size</th>\n",
       "      <th>Screen to Body Ratio (calculated)</th>\n",
       "      <th>...</th>\n",
       "      <th>Wi-Fi</th>\n",
       "      <th>Bluetooth</th>\n",
       "      <th>GPS</th>\n",
       "      <th>NFC</th>\n",
       "      <th>FM Radio</th>\n",
       "      <th>Loudspeaker</th>\n",
       "      <th>Fingerprint Sensor</th>\n",
       "      <th>Waterproof</th>\n",
       "      <th>Wireless Charging</th>\n",
       "      <th>Heart Rate Monitor</th>\n",
       "    </tr>\n",
       "  </thead>\n",
       "  <tbody>\n",
       "    <tr>\n",
       "      <th>675</th>\n",
       "      <td>Coolpad</td>\n",
       "      <td>6,890</td>\n",
       "      <td>February 5, 2019 (Official)</td>\n",
       "      <td>Android v9.0 (Pie)</td>\n",
       "      <td>Octa core (1.6 GHz, Quad core, Cortex A55 + 1....</td>\n",
       "      <td>64 bit</td>\n",
       "      <td>2 GB</td>\n",
       "      <td>IPS LCD</td>\n",
       "      <td>5.71 inches (14.5 cm)</td>\n",
       "      <td>77.3 %</td>\n",
       "      <td>...</td>\n",
       "      <td>Yes, Wi-Fi 802.11, b/g/n</td>\n",
       "      <td>Yes, v4.1</td>\n",
       "      <td>Yes with A-GPS, Glonass</td>\n",
       "      <td>NaN</td>\n",
       "      <td>NaN</td>\n",
       "      <td>Yes</td>\n",
       "      <td>Yes</td>\n",
       "      <td>NaN</td>\n",
       "      <td>NaN</td>\n",
       "      <td>NaN</td>\n",
       "    </tr>\n",
       "    <tr>\n",
       "      <th>148</th>\n",
       "      <td>Vivo</td>\n",
       "      <td>14,990</td>\n",
       "      <td>June 20, 2019 (Official)</td>\n",
       "      <td>Android v9.0 (Pie)</td>\n",
       "      <td>Octa core, 2 GHz, Cortex A53</td>\n",
       "      <td>64 bit</td>\n",
       "      <td>4 GB\\r\\n                                      ...</td>\n",
       "      <td>IPS LCD</td>\n",
       "      <td>6.35 inches (16.13 cm)</td>\n",
       "      <td>81.82 %</td>\n",
       "      <td>...</td>\n",
       "      <td>Yes, Wi-Fi 802.11, b/g/n/n 5GHz</td>\n",
       "      <td>Yes, v5.0</td>\n",
       "      <td>Yes with A-GPS, Glonass</td>\n",
       "      <td>NaN</td>\n",
       "      <td>Yes</td>\n",
       "      <td>Yes</td>\n",
       "      <td>Yes</td>\n",
       "      <td>NaN</td>\n",
       "      <td>NaN</td>\n",
       "      <td>NaN</td>\n",
       "    </tr>\n",
       "    <tr>\n",
       "      <th>1946</th>\n",
       "      <td>Karbonn</td>\n",
       "      <td>3,699</td>\n",
       "      <td>January 12, 2018 (Official)</td>\n",
       "      <td>Android v7.0 (Nougat)</td>\n",
       "      <td>Quad core, 1.25 GHz, Cortex A53</td>\n",
       "      <td>NaN</td>\n",
       "      <td>2 GB\\n                                        ...</td>\n",
       "      <td>IPS LCD</td>\n",
       "      <td>5.0 inches (12.7 cm)</td>\n",
       "      <td>62.79 %</td>\n",
       "      <td>...</td>\n",
       "      <td>Yes, Wi-Fi 802.11, b/g/n</td>\n",
       "      <td>Yes</td>\n",
       "      <td>Yes with A-GPS</td>\n",
       "      <td>No</td>\n",
       "      <td>Yes</td>\n",
       "      <td>Yes</td>\n",
       "      <td>Yes</td>\n",
       "      <td>NaN</td>\n",
       "      <td>NaN</td>\n",
       "      <td>NaN</td>\n",
       "    </tr>\n",
       "    <tr>\n",
       "      <th>1247</th>\n",
       "      <td>Moto</td>\n",
       "      <td>9,790</td>\n",
       "      <td>May 28, 2020 (Official)</td>\n",
       "      <td>Android v9.0 (Pie)</td>\n",
       "      <td>Octa core, 2.3 GHz, Cortex A53</td>\n",
       "      <td>64 bit</td>\n",
       "      <td>4 GB\\n                                        ...</td>\n",
       "      <td>IPS LCD</td>\n",
       "      <td>6.5 inches (16.51 cm)</td>\n",
       "      <td>81.72 %</td>\n",
       "      <td>...</td>\n",
       "      <td>Yes, Wi-Fi 802.11, b/g/n</td>\n",
       "      <td>Yes, v4.2</td>\n",
       "      <td>Yes with A-GPS, Glonass</td>\n",
       "      <td>No</td>\n",
       "      <td>NaN</td>\n",
       "      <td>Yes</td>\n",
       "      <td>Yes</td>\n",
       "      <td>Yes, Splash proof</td>\n",
       "      <td>NaN</td>\n",
       "      <td>NaN</td>\n",
       "    </tr>\n",
       "    <tr>\n",
       "      <th>2510</th>\n",
       "      <td>Vivo</td>\n",
       "      <td>22,590</td>\n",
       "      <td>November 14, 2021 (Expected)</td>\n",
       "      <td>Android v10 (Q)</td>\n",
       "      <td>Octa core (2.4 GHz, Single core, Kryo 475 + 2....</td>\n",
       "      <td>64 bit</td>\n",
       "      <td>6 GB\\r\\n                                      ...</td>\n",
       "      <td>TFT</td>\n",
       "      <td>6.57 inches (16.69 cm)</td>\n",
       "      <td>83.99 %</td>\n",
       "      <td>...</td>\n",
       "      <td>Yes, Wi-Fi 802.11, ac/b/g/n</td>\n",
       "      <td>Yes, v5.1</td>\n",
       "      <td>Yes with A-GPS, Glonass</td>\n",
       "      <td>Yes</td>\n",
       "      <td>NaN</td>\n",
       "      <td>Yes</td>\n",
       "      <td>Yes</td>\n",
       "      <td>NaN</td>\n",
       "      <td>NaN</td>\n",
       "      <td>NaN</td>\n",
       "    </tr>\n",
       "  </tbody>\n",
       "</table>\n",
       "<p>5 rows × 43 columns</p>\n",
       "</div>"
      ],
      "text/plain": [
       "        Brand    Price                   Launch Date       Operating System  \\\n",
       "675   Coolpad    6,890   February 5, 2019 (Official)     Android v9.0 (Pie)   \n",
       "148      Vivo   14,990      June 20, 2019 (Official)     Android v9.0 (Pie)   \n",
       "1946  Karbonn    3,699   January 12, 2018 (Official)  Android v7.0 (Nougat)   \n",
       "1247     Moto    9,790       May 28, 2020 (Official)     Android v9.0 (Pie)   \n",
       "2510     Vivo   22,590  November 14, 2021 (Expected)        Android v10 (Q)   \n",
       "\n",
       "                                                    CPU Architecture  \\\n",
       "675   Octa core (1.6 GHz, Quad core, Cortex A55 + 1....       64 bit   \n",
       "148                        Octa core, 2 GHz, Cortex A53       64 bit   \n",
       "1946                    Quad core, 1.25 GHz, Cortex A53          NaN   \n",
       "1247                     Octa core, 2.3 GHz, Cortex A53       64 bit   \n",
       "2510  Octa core (2.4 GHz, Single core, Kryo 475 + 2....       64 bit   \n",
       "\n",
       "                                                    RAM Display Type  \\\n",
       "675                                                2 GB      IPS LCD   \n",
       "148   4 GB\\r\\n                                      ...      IPS LCD   \n",
       "1946  2 GB\\n                                        ...      IPS LCD   \n",
       "1247  4 GB\\n                                        ...      IPS LCD   \n",
       "2510  6 GB\\r\\n                                      ...          TFT   \n",
       "\n",
       "                 Screen Size Screen to Body Ratio (calculated)  ...  \\\n",
       "675    5.71 inches (14.5 cm)                            77.3 %  ...   \n",
       "148   6.35 inches (16.13 cm)                           81.82 %  ...   \n",
       "1946    5.0 inches (12.7 cm)                           62.79 %  ...   \n",
       "1247   6.5 inches (16.51 cm)                           81.72 %  ...   \n",
       "2510  6.57 inches (16.69 cm)                           83.99 %  ...   \n",
       "\n",
       "                                Wi-Fi  Bluetooth                      GPS  \\\n",
       "675          Yes, Wi-Fi 802.11, b/g/n  Yes, v4.1  Yes with A-GPS, Glonass   \n",
       "148   Yes, Wi-Fi 802.11, b/g/n/n 5GHz  Yes, v5.0  Yes with A-GPS, Glonass   \n",
       "1946         Yes, Wi-Fi 802.11, b/g/n        Yes           Yes with A-GPS   \n",
       "1247         Yes, Wi-Fi 802.11, b/g/n  Yes, v4.2  Yes with A-GPS, Glonass   \n",
       "2510      Yes, Wi-Fi 802.11, ac/b/g/n  Yes, v5.1  Yes with A-GPS, Glonass   \n",
       "\n",
       "      NFC FM Radio Loudspeaker Fingerprint Sensor         Waterproof  \\\n",
       "675   NaN      NaN         Yes                Yes                NaN   \n",
       "148   NaN      Yes         Yes                Yes                NaN   \n",
       "1946   No      Yes         Yes                Yes                NaN   \n",
       "1247   No      NaN         Yes                Yes  Yes, Splash proof   \n",
       "2510  Yes      NaN         Yes                Yes                NaN   \n",
       "\n",
       "     Wireless Charging Heart Rate Monitor  \n",
       "675                NaN                NaN  \n",
       "148                NaN                NaN  \n",
       "1946               NaN                NaN  \n",
       "1247               NaN                NaN  \n",
       "2510               NaN                NaN  \n",
       "\n",
       "[5 rows x 43 columns]"
      ]
     },
     "execution_count": 11,
     "metadata": {},
     "output_type": "execute_result"
    }
   ],
   "source": [
    "df.sample(5)"
   ]
  },
  {
   "cell_type": "code",
   "execution_count": 12,
   "id": "293ccaa1",
   "metadata": {},
   "outputs": [
    {
     "data": {
      "text/html": [
       "<div>\n",
       "<style scoped>\n",
       "    .dataframe tbody tr th:only-of-type {\n",
       "        vertical-align: middle;\n",
       "    }\n",
       "\n",
       "    .dataframe tbody tr th {\n",
       "        vertical-align: top;\n",
       "    }\n",
       "\n",
       "    .dataframe thead th {\n",
       "        text-align: right;\n",
       "    }\n",
       "</style>\n",
       "<table border=\"1\" class=\"dataframe\">\n",
       "  <thead>\n",
       "    <tr style=\"text-align: right;\">\n",
       "      <th></th>\n",
       "      <th>Brand</th>\n",
       "      <th>Price</th>\n",
       "      <th>Launch Date</th>\n",
       "      <th>Operating System</th>\n",
       "      <th>CPU</th>\n",
       "      <th>Architecture</th>\n",
       "      <th>RAM</th>\n",
       "      <th>Display Type</th>\n",
       "      <th>Screen Size</th>\n",
       "      <th>Screen to Body Ratio (calculated)</th>\n",
       "      <th>...</th>\n",
       "      <th>Wi-Fi</th>\n",
       "      <th>Bluetooth</th>\n",
       "      <th>GPS</th>\n",
       "      <th>NFC</th>\n",
       "      <th>FM Radio</th>\n",
       "      <th>Loudspeaker</th>\n",
       "      <th>Fingerprint Sensor</th>\n",
       "      <th>Waterproof</th>\n",
       "      <th>Wireless Charging</th>\n",
       "      <th>Heart Rate Monitor</th>\n",
       "    </tr>\n",
       "  </thead>\n",
       "  <tbody>\n",
       "    <tr>\n",
       "      <th>2653</th>\n",
       "      <td>ZTE</td>\n",
       "      <td>18,990</td>\n",
       "      <td>November 1, 2021 (Expected)</td>\n",
       "      <td>Android v11</td>\n",
       "      <td>Octa core (2.2 GHz, Dual core, Cortex A76 + 2 ...</td>\n",
       "      <td>64 bit</td>\n",
       "      <td>6 GB\\r\\n                                      ...</td>\n",
       "      <td>IPS LCD</td>\n",
       "      <td>6.67 inches (16.94 cm)</td>\n",
       "      <td>84.13 %</td>\n",
       "      <td>...</td>\n",
       "      <td>Yes, Wi-Fi 802.11, ac/b/g/n/n 5GHz</td>\n",
       "      <td>Yes, v5.1</td>\n",
       "      <td>Yes with A-GPS, Glonass</td>\n",
       "      <td>NaN</td>\n",
       "      <td>NaN</td>\n",
       "      <td>Yes</td>\n",
       "      <td>Yes</td>\n",
       "      <td>NaN</td>\n",
       "      <td>NaN</td>\n",
       "      <td>NaN</td>\n",
       "    </tr>\n",
       "    <tr>\n",
       "      <th>2654</th>\n",
       "      <td>Nubia</td>\n",
       "      <td>40,690</td>\n",
       "      <td>October 30, 2021 (Expected)</td>\n",
       "      <td>Android v10 (Q)</td>\n",
       "      <td>Octa core (2.84 GHz, Single core, Kryo 585 + 2...</td>\n",
       "      <td>64 bit</td>\n",
       "      <td>8 GB\\r\\n                                      ...</td>\n",
       "      <td>AMOLED</td>\n",
       "      <td>6.65 inches (16.89 cm)</td>\n",
       "      <td>82.42 %</td>\n",
       "      <td>...</td>\n",
       "      <td>Yes, Wi-Fi 802.11, ax/b/g/n/n 5GHz, MIMO</td>\n",
       "      <td>Yes, v5.1</td>\n",
       "      <td>Yes with A-GPS, Glonass</td>\n",
       "      <td>Yes</td>\n",
       "      <td>NaN</td>\n",
       "      <td>Yes</td>\n",
       "      <td>Yes</td>\n",
       "      <td>NaN</td>\n",
       "      <td>NaN</td>\n",
       "      <td>NaN</td>\n",
       "    </tr>\n",
       "    <tr>\n",
       "      <th>2655</th>\n",
       "      <td>Meizu</td>\n",
       "      <td>52,590</td>\n",
       "      <td>December 23, 2021 (Expected)</td>\n",
       "      <td>Android v11</td>\n",
       "      <td>Octa core (3 GHz, Single core, Kryo 680 + 2.42...</td>\n",
       "      <td>64 bit</td>\n",
       "      <td>8 GB</td>\n",
       "      <td>Super AMOLED</td>\n",
       "      <td>6.7 inches (17.02 cm)</td>\n",
       "      <td>91.36 %</td>\n",
       "      <td>...</td>\n",
       "      <td>Yes, Wi-Fi 802.11, a/ac/ax/b/g/n, MIMO</td>\n",
       "      <td>Yes, v5.2</td>\n",
       "      <td>Yes with A-GPS, Glonass</td>\n",
       "      <td>Yes</td>\n",
       "      <td>No</td>\n",
       "      <td>Yes</td>\n",
       "      <td>Yes</td>\n",
       "      <td>Yes, Water resistant</td>\n",
       "      <td>Yes</td>\n",
       "      <td>NaN</td>\n",
       "    </tr>\n",
       "    <tr>\n",
       "      <th>2656</th>\n",
       "      <td>Vivo</td>\n",
       "      <td>30,490</td>\n",
       "      <td>November 6, 2021 (Expected)</td>\n",
       "      <td>Android v11</td>\n",
       "      <td>Octa core (2.6 GHz, Quad core, Cortex A76 + 2 ...</td>\n",
       "      <td>64 bit</td>\n",
       "      <td>8 GB</td>\n",
       "      <td>AMOLED</td>\n",
       "      <td>6.44 inches (16.36 cm)</td>\n",
       "      <td>84.98 %</td>\n",
       "      <td>...</td>\n",
       "      <td>Yes, Wi-Fi 802.11, ac/b/g/n/n 5GHz</td>\n",
       "      <td>Yes, v5.1</td>\n",
       "      <td>Yes with A-GPS, Glonass</td>\n",
       "      <td>NaN</td>\n",
       "      <td>NaN</td>\n",
       "      <td>Yes</td>\n",
       "      <td>Yes</td>\n",
       "      <td>NaN</td>\n",
       "      <td>NaN</td>\n",
       "      <td>NaN</td>\n",
       "    </tr>\n",
       "    <tr>\n",
       "      <th>2657</th>\n",
       "      <td>Sharp</td>\n",
       "      <td>24,999</td>\n",
       "      <td>December 31, 2021 (Expected)</td>\n",
       "      <td>Android v11</td>\n",
       "      <td>Octa core (2 GHz, Dual core, Kryo 560 + 1.7 GH...</td>\n",
       "      <td>64 bit</td>\n",
       "      <td>4 GB</td>\n",
       "      <td>OLED</td>\n",
       "      <td>6.1 inches (15.49 cm)</td>\n",
       "      <td>83.17 %</td>\n",
       "      <td>...</td>\n",
       "      <td>Yes, Wi-Fi 802.11, a/ac/b/g/n</td>\n",
       "      <td>Yes, v5.1</td>\n",
       "      <td>Yes with A-GPS</td>\n",
       "      <td>Yes</td>\n",
       "      <td>NaN</td>\n",
       "      <td>Yes</td>\n",
       "      <td>Yes</td>\n",
       "      <td>Yes, Water resistant, IP68</td>\n",
       "      <td>NaN</td>\n",
       "      <td>NaN</td>\n",
       "    </tr>\n",
       "  </tbody>\n",
       "</table>\n",
       "<p>5 rows × 43 columns</p>\n",
       "</div>"
      ],
      "text/plain": [
       "      Brand    Price                   Launch Date Operating System  \\\n",
       "2653    ZTE   18,990   November 1, 2021 (Expected)      Android v11   \n",
       "2654  Nubia   40,690   October 30, 2021 (Expected)  Android v10 (Q)   \n",
       "2655  Meizu   52,590  December 23, 2021 (Expected)      Android v11   \n",
       "2656   Vivo   30,490   November 6, 2021 (Expected)      Android v11   \n",
       "2657  Sharp   24,999  December 31, 2021 (Expected)      Android v11   \n",
       "\n",
       "                                                    CPU Architecture  \\\n",
       "2653  Octa core (2.2 GHz, Dual core, Cortex A76 + 2 ...       64 bit   \n",
       "2654  Octa core (2.84 GHz, Single core, Kryo 585 + 2...       64 bit   \n",
       "2655  Octa core (3 GHz, Single core, Kryo 680 + 2.42...       64 bit   \n",
       "2656  Octa core (2.6 GHz, Quad core, Cortex A76 + 2 ...       64 bit   \n",
       "2657  Octa core (2 GHz, Dual core, Kryo 560 + 1.7 GH...       64 bit   \n",
       "\n",
       "                                                    RAM  Display Type  \\\n",
       "2653  6 GB\\r\\n                                      ...       IPS LCD   \n",
       "2654  8 GB\\r\\n                                      ...        AMOLED   \n",
       "2655                                               8 GB  Super AMOLED   \n",
       "2656                                               8 GB        AMOLED   \n",
       "2657                                               4 GB          OLED   \n",
       "\n",
       "                 Screen Size Screen to Body Ratio (calculated)  ...  \\\n",
       "2653  6.67 inches (16.94 cm)                           84.13 %  ...   \n",
       "2654  6.65 inches (16.89 cm)                           82.42 %  ...   \n",
       "2655   6.7 inches (17.02 cm)                           91.36 %  ...   \n",
       "2656  6.44 inches (16.36 cm)                           84.98 %  ...   \n",
       "2657   6.1 inches (15.49 cm)                           83.17 %  ...   \n",
       "\n",
       "                                         Wi-Fi  Bluetooth  \\\n",
       "2653        Yes, Wi-Fi 802.11, ac/b/g/n/n 5GHz  Yes, v5.1   \n",
       "2654  Yes, Wi-Fi 802.11, ax/b/g/n/n 5GHz, MIMO  Yes, v5.1   \n",
       "2655    Yes, Wi-Fi 802.11, a/ac/ax/b/g/n, MIMO  Yes, v5.2   \n",
       "2656        Yes, Wi-Fi 802.11, ac/b/g/n/n 5GHz  Yes, v5.1   \n",
       "2657             Yes, Wi-Fi 802.11, a/ac/b/g/n  Yes, v5.1   \n",
       "\n",
       "                          GPS  NFC FM Radio Loudspeaker Fingerprint Sensor  \\\n",
       "2653  Yes with A-GPS, Glonass  NaN      NaN         Yes                Yes   \n",
       "2654  Yes with A-GPS, Glonass  Yes      NaN         Yes                Yes   \n",
       "2655  Yes with A-GPS, Glonass  Yes       No         Yes                Yes   \n",
       "2656  Yes with A-GPS, Glonass  NaN      NaN         Yes                Yes   \n",
       "2657           Yes with A-GPS  Yes      NaN         Yes                Yes   \n",
       "\n",
       "                      Waterproof Wireless Charging Heart Rate Monitor  \n",
       "2653                         NaN               NaN                NaN  \n",
       "2654                         NaN               NaN                NaN  \n",
       "2655        Yes, Water resistant               Yes                NaN  \n",
       "2656                         NaN               NaN                NaN  \n",
       "2657  Yes, Water resistant, IP68               NaN                NaN  \n",
       "\n",
       "[5 rows x 43 columns]"
      ]
     },
     "execution_count": 12,
     "metadata": {},
     "output_type": "execute_result"
    }
   ],
   "source": [
    "df.tail()"
   ]
  },
  {
   "cell_type": "code",
   "execution_count": 13,
   "id": "e8bc3086",
   "metadata": {},
   "outputs": [
    {
     "name": "stdout",
     "output_type": "stream",
     "text": [
      "<class 'pandas.core.frame.DataFrame'>\n",
      "RangeIndex: 2658 entries, 0 to 2657\n",
      "Data columns (total 43 columns):\n",
      " #   Column                             Non-Null Count  Dtype \n",
      "---  ------                             --------------  ----- \n",
      " 0   Brand                              2658 non-null   object\n",
      " 1   Price                              2658 non-null   object\n",
      " 2   Launch Date                        2634 non-null   object\n",
      " 3   Operating System                   2649 non-null   object\n",
      " 4   CPU                                2652 non-null   object\n",
      " 5   Architecture                       2012 non-null   object\n",
      " 6   RAM                                2657 non-null   object\n",
      " 7   Display Type                       2657 non-null   object\n",
      " 8   Screen Size                        2658 non-null   object\n",
      " 9   Screen to Body Ratio (calculated)  2371 non-null   object\n",
      " 10  Touch Screen                       2634 non-null   object\n",
      " 11  Refresh Rate                       582 non-null    object\n",
      " 12  Height                             2369 non-null   object\n",
      " 13  Width                              2369 non-null   object\n",
      " 14  Thickness                          2369 non-null   object\n",
      " 15  Weight                             2236 non-null   object\n",
      " 16  Build Material                     1132 non-null   object\n",
      " 17  Camera Setup                       2654 non-null   object\n",
      " 18  Autofocus                          2488 non-null   object\n",
      " 19  Flash                              2653 non-null   object\n",
      " 20  Image Resolution                   2654 non-null   object\n",
      " 21  Capacity                           2656 non-null   object\n",
      " 22  Type                               2657 non-null   object\n",
      " 23  Removable                          2408 non-null   object\n",
      " 24  Quick Charging                     1131 non-null   object\n",
      " 25  USB Type-C                         2517 non-null   object\n",
      " 26  Internal Memory                    2655 non-null   object\n",
      " 27  Expandable Memory                  2650 non-null   object\n",
      " 28  User Available Storage             596 non-null    object\n",
      " 29  Storage Type                       1121 non-null   object\n",
      " 30  SIM Slot(s)                        2658 non-null   object\n",
      " 31  Network Support                    2658 non-null   object\n",
      " 32  VoLTE                              2274 non-null   object\n",
      " 33  Wi-Fi                              2650 non-null   object\n",
      " 34  Bluetooth                          2658 non-null   object\n",
      " 35  GPS                                2640 non-null   object\n",
      " 36  NFC                                1910 non-null   object\n",
      " 37  FM Radio                           1813 non-null   object\n",
      " 38  Loudspeaker                        2646 non-null   object\n",
      " 39  Fingerprint Sensor                 2561 non-null   object\n",
      " 40  Waterproof                         474 non-null    object\n",
      " 41  Wireless Charging                  170 non-null    object\n",
      " 42  Heart Rate Monitor                 28 non-null     object\n",
      "dtypes: object(43)\n",
      "memory usage: 893.0+ KB\n"
     ]
    }
   ],
   "source": [
    "df.info()"
   ]
  },
  {
   "cell_type": "code",
   "execution_count": 5,
   "id": "ab3f3f4f",
   "metadata": {},
   "outputs": [
    {
     "data": {
      "text/plain": [
       "(2658, 108)"
      ]
     },
     "execution_count": 5,
     "metadata": {},
     "output_type": "execute_result"
    }
   ],
   "source": [
    "df.shape"
   ]
  },
  {
   "cell_type": "code",
   "execution_count": 15,
   "id": "5ef3d451",
   "metadata": {},
   "outputs": [
    {
     "data": {
      "text/plain": [
       "Index(['Brand', 'Price', 'Launch Date', 'Operating System', 'CPU',\n",
       "       'Architecture', 'RAM', 'Display Type', 'Screen Size',\n",
       "       'Screen to Body Ratio (calculated)', 'Touch Screen', 'Refresh Rate',\n",
       "       'Height', 'Width', 'Thickness', 'Weight', 'Build Material',\n",
       "       'Camera Setup', 'Autofocus', 'Flash', 'Image Resolution', 'Capacity',\n",
       "       'Type', 'Removable', 'Quick Charging', 'USB Type-C', 'Internal Memory',\n",
       "       'Expandable Memory', 'User Available Storage', 'Storage Type',\n",
       "       'SIM Slot(s)', 'Network Support', 'VoLTE', 'Wi-Fi', 'Bluetooth', 'GPS',\n",
       "       'NFC', 'FM Radio', 'Loudspeaker', 'Fingerprint Sensor', 'Waterproof',\n",
       "       'Wireless Charging', 'Heart Rate Monitor'],\n",
       "      dtype='object')"
      ]
     },
     "execution_count": 15,
     "metadata": {},
     "output_type": "execute_result"
    }
   ],
   "source": [
    "df.columns"
   ]
  },
  {
   "cell_type": "code",
   "execution_count": 16,
   "id": "88e8566c",
   "metadata": {},
   "outputs": [
    {
     "data": {
      "text/plain": [
       "Brand                                object\n",
       "Price                                object\n",
       "Launch Date                          object\n",
       "Operating System                     object\n",
       "CPU                                  object\n",
       "Architecture                         object\n",
       "RAM                                  object\n",
       "Display Type                         object\n",
       "Screen Size                          object\n",
       "Screen to Body Ratio (calculated)    object\n",
       "Touch Screen                         object\n",
       "Refresh Rate                         object\n",
       "Height                               object\n",
       "Width                                object\n",
       "Thickness                            object\n",
       "Weight                               object\n",
       "Build Material                       object\n",
       "Camera Setup                         object\n",
       "Autofocus                            object\n",
       "Flash                                object\n",
       "Image Resolution                     object\n",
       "Capacity                             object\n",
       "Type                                 object\n",
       "Removable                            object\n",
       "Quick Charging                       object\n",
       "USB Type-C                           object\n",
       "Internal Memory                      object\n",
       "Expandable Memory                    object\n",
       "User Available Storage               object\n",
       "Storage Type                         object\n",
       "SIM Slot(s)                          object\n",
       "Network Support                      object\n",
       "VoLTE                                object\n",
       "Wi-Fi                                object\n",
       "Bluetooth                            object\n",
       "GPS                                  object\n",
       "NFC                                  object\n",
       "FM Radio                             object\n",
       "Loudspeaker                          object\n",
       "Fingerprint Sensor                   object\n",
       "Waterproof                           object\n",
       "Wireless Charging                    object\n",
       "Heart Rate Monitor                   object\n",
       "dtype: object"
      ]
     },
     "execution_count": 16,
     "metadata": {},
     "output_type": "execute_result"
    }
   ],
   "source": [
    "df.dtypes"
   ]
  },
  {
   "cell_type": "markdown",
   "id": "20bc92f5",
   "metadata": {},
   "source": [
    "## Rename Columns"
   ]
  },
  {
   "cell_type": "code",
   "execution_count": 18,
   "id": "c45e9430",
   "metadata": {},
   "outputs": [],
   "source": [
    "df.rename(columns={'Launch Date': 'Launch Year',\n",
    "                   'Architecture': 'CPU Architecture',\n",
    "                   'Operating System': 'OS',\n",
    "                   'Screen to Body Ratio (calculated)': 'Screen to Body Ratio',\n",
    "                   'Type': 'Battery Type', \n",
    "                   'Autofocus': 'Camera Autofocus',\n",
    "                   'Flash': 'Camera Flash',\n",
    "                   'Removable': 'Removable Battery',\n",
    "                   'Build Material': 'Material'},\n",
    "          inplace=True)"
   ]
  },
  {
   "cell_type": "markdown",
   "id": "4652fd6c",
   "metadata": {},
   "source": [
    "## Striping"
   ]
  },
  {
   "cell_type": "code",
   "execution_count": 19,
   "id": "843d0c99",
   "metadata": {},
   "outputs": [],
   "source": [
    "cols = df.select_dtypes(['object']).columns\n",
    "df[cols] = df[cols].apply(lambda x: x.str.strip())\n",
    "\n",
    "df.columns = [column.strip() for column in df.columns]"
   ]
  },
  {
   "cell_type": "markdown",
   "id": "d34e511c",
   "metadata": {},
   "source": [
    "## EDA Functions"
   ]
  },
  {
   "cell_type": "code",
   "execution_count": 13,
   "id": "657bcc7c",
   "metadata": {},
   "outputs": [],
   "source": [
    "# return brand name if in list, otherwise return \"other\"\n",
    "\n",
    "def get_brand(brand):\n",
    "    brands = ['Samsung', 'Xiaomi', 'Apple', 'Google', 'OnePlus', 'OPPO', 'Realme']\n",
    "    if brand in brands:\n",
    "        return brand\n",
    "    return 'Other'"
   ]
  },
  {
   "cell_type": "code",
   "execution_count": 15,
   "id": "369053b2",
   "metadata": {},
   "outputs": [],
   "source": [
    "# extract and return year from date\n",
    "\n",
    "def get_year(date):\n",
    "    if date is not np.nan:\n",
    "        return int(date[date.find(', ')+2:date.find(', ')+6])\n",
    "    return 0"
   ]
  },
  {
   "cell_type": "code",
   "execution_count": 14,
   "id": "1fa755b1",
   "metadata": {},
   "outputs": [],
   "source": [
    "# format and return price in float\n",
    "\n",
    "def conv_price(price):\n",
    "    return float(price.replace(',', ''))"
   ]
  },
  {
   "cell_type": "code",
   "execution_count": 16,
   "id": "9e43faa8",
   "metadata": {},
   "outputs": [],
   "source": [
    "# return os name if \"android\" or \"ios\", otherwise return \"other\"\n",
    "\n",
    "def get_os(os):\n",
    "    if 'Android' in str(os):\n",
    "        return 'Android'\n",
    "    elif 'iOS' in str(os):\n",
    "        return 'iOS'\n",
    "    return 'Other'"
   ]
  },
  {
   "cell_type": "code",
   "execution_count": 17,
   "id": "97cc8b35",
   "metadata": {},
   "outputs": [],
   "source": [
    "# extract and return number of cores\n",
    "\n",
    "def get_cpu(cpu):\n",
    "    if cpu is np.nan:\n",
    "        return cpu\n",
    "    elif 'ore' in cpu:\n",
    "        return cpu[:cpu.find('ore')+3]\n",
    "    return 'Octa core'"
   ]
  },
  {
   "cell_type": "code",
   "execution_count": 18,
   "id": "b450d9f2",
   "metadata": {},
   "outputs": [],
   "source": [
    "# return display type if in list, otherwise return \"other\"\n",
    "\n",
    "def get_disp_type(disp):\n",
    "    disp_types = ['IPS LCD', 'TFT', 'Super AMOLED', 'AMOLED', 'OLED']\n",
    "    if disp in disp_types:\n",
    "        return disp\n",
    "    return 'Other'"
   ]
  },
  {
   "cell_type": "code",
   "execution_count": 19,
   "id": "1f967812",
   "metadata": {},
   "outputs": [],
   "source": [
    "# extract and return screen to body ratio as float\n",
    "\n",
    "def get_screen_body_ratio(sbr):\n",
    "    if sbr is not np.nan:\n",
    "        return float(sbr[:sbr.find(' ')])\n",
    "    return sbr"
   ]
  },
  {
   "cell_type": "code",
   "execution_count": 20,
   "id": "4a3b74ee",
   "metadata": {},
   "outputs": [],
   "source": [
    "# return \"No\" if passed value is NaN or contains \"No\", otherwise return \"Yes\"\n",
    "\n",
    "def get_yes_no(val):\n",
    "    if 'No' in str(val) or 'no' in str(val) or val is np.nan:\n",
    "        return 'No'\n",
    "    return 'Yes'"
   ]
  },
  {
   "cell_type": "code",
   "execution_count": 21,
   "id": "81a337d3",
   "metadata": {},
   "outputs": [],
   "source": [
    "# extract and return number of sim slots\n",
    "\n",
    "def get_sim_slots(sim):\n",
    "    return sim[:sim.find(' ')]"
   ]
  },
  {
   "cell_type": "code",
   "execution_count": 22,
   "id": "39dd02e2",
   "metadata": {},
   "outputs": [],
   "source": [
    "# extract and return network\n",
    "\n",
    "def get_network(net):\n",
    "    return net[:2]"
   ]
  },
  {
   "cell_type": "code",
   "execution_count": 23,
   "id": "ac3fb175",
   "metadata": {},
   "outputs": [],
   "source": [
    "# extract and return memory\n",
    "\n",
    "def get_memory(mem):\n",
    "    if mem is np.nan:\n",
    "        return mem\n",
    "    elif 'B' in mem:\n",
    "        return mem[:mem.index('B')+1]\n",
    "    else:\n",
    "        return mem"
   ]
  },
  {
   "cell_type": "code",
   "execution_count": 24,
   "id": "90c0423c",
   "metadata": {},
   "outputs": [],
   "source": [
    "# extract and return screen size as float\n",
    "\n",
    "def get_screen_size(size):\n",
    "    if size is not np.nan:\n",
    "        return float(size[:size.index('inch')])\n",
    "    return size"
   ]
  },
  {
   "cell_type": "code",
   "execution_count": 25,
   "id": "944fe05e",
   "metadata": {},
   "outputs": [],
   "source": [
    "# extract and return dimensions as float (height, width, thickness)\n",
    "\n",
    "def get_dimensions(dim):\n",
    "    if dim is not np.nan:\n",
    "        return float(dim[:dim.index('mm')])\n",
    "    return dim"
   ]
  },
  {
   "cell_type": "code",
   "execution_count": 26,
   "id": "96871081",
   "metadata": {},
   "outputs": [],
   "source": [
    "# extract and return material if specified, otherwise return \"other\"\n",
    "\n",
    "def get_material(mat):\n",
    "    if mat is np.nan:\n",
    "        return mat\n",
    "    elif 'PLASTIC' in mat:\n",
    "        return 'Plastic'\n",
    "    elif 'METAL' in mat:\n",
    "        return 'Metal'\n",
    "    elif 'GLASS' in mat:\n",
    "        return 'Glass'\n",
    "    elif 'ALUMINIUM' in mat:\n",
    "        return 'Aluminium'\n",
    "    return 'Other'"
   ]
  },
  {
   "cell_type": "code",
   "execution_count": 27,
   "id": "027842b1",
   "metadata": {},
   "outputs": [],
   "source": [
    "# return image resolution if in list, otherwise return \"other\"\n",
    "\n",
    "def get_image_res(res):\n",
    "    resolutions=['4128 x 3096 Pixels',\n",
    "                 '3264 x 2448 Pixels',\n",
    "                 '8000 x 6000 Pixels',\n",
    "                 '2592 x 1944 Pixels',\n",
    "                 '9000 x 7000 Pixels',\n",
    "                 '4000 x 3000 Pixels',\n",
    "                 '4616 x 3464 Pixels']\n",
    "    \n",
    "    if res is np.nan:\n",
    "        return res\n",
    "    elif res in resolutions:\n",
    "        return res\n",
    "    return 'Other'"
   ]
  },
  {
   "cell_type": "code",
   "execution_count": 28,
   "id": "250eace4",
   "metadata": {},
   "outputs": [],
   "source": [
    "# return refresh rate if in list, otherwise return \"other\"\n",
    "\n",
    "def get_refresh_rate(rate):\n",
    "    rates=['120 Hz', '60 Hz', '90 Hz']\n",
    "    \n",
    "    if rate is np.nan:\n",
    "        return rate\n",
    "    elif rate in rates:\n",
    "        return rate\n",
    "    return 'Other'"
   ]
  },
  {
   "cell_type": "markdown",
   "id": "8902577f",
   "metadata": {},
   "source": [
    "## Function Calls"
   ]
  },
  {
   "cell_type": "markdown",
   "id": "6bef8eaa",
   "metadata": {},
   "source": [
    "### Brand"
   ]
  },
  {
   "cell_type": "markdown",
   "id": "8a0e16be",
   "metadata": {},
   "source": [
    "Get popular brand names (Samsung, Apple, Google... etc.) and group others"
   ]
  },
  {
   "cell_type": "code",
   "execution_count": 29,
   "id": "c8ec8ef8",
   "metadata": {},
   "outputs": [],
   "source": [
    "df['Brand'] = df['Brand'].apply(get_brand)"
   ]
  },
  {
   "cell_type": "markdown",
   "id": "f93ae4c3",
   "metadata": {},
   "source": [
    "### Launch Year"
   ]
  },
  {
   "cell_type": "markdown",
   "id": "0ac0d066",
   "metadata": {},
   "source": [
    "Extract launch year from the launch date"
   ]
  },
  {
   "cell_type": "code",
   "execution_count": 30,
   "id": "cc333b5d",
   "metadata": {},
   "outputs": [],
   "source": [
    "df['Launch Year'] = df['Launch Year'].apply(get_year)"
   ]
  },
  {
   "cell_type": "markdown",
   "id": "99b8577d",
   "metadata": {},
   "source": [
    "### Price"
   ]
  },
  {
   "cell_type": "markdown",
   "id": "e0c61b90",
   "metadata": {},
   "source": [
    "Format the price and return it as a float"
   ]
  },
  {
   "cell_type": "code",
   "execution_count": 31,
   "id": "39e2ccbc",
   "metadata": {},
   "outputs": [],
   "source": [
    "df['Price'] = df['Price'].apply(conv_price)"
   ]
  },
  {
   "cell_type": "markdown",
   "id": "564e4495",
   "metadata": {},
   "source": [
    "### Operating System"
   ]
  },
  {
   "cell_type": "markdown",
   "id": "96c6fe62",
   "metadata": {},
   "source": [
    "Get popular operating systems (Android, iOS... etc.) and group others"
   ]
  },
  {
   "cell_type": "code",
   "execution_count": 32,
   "id": "2cdf4805",
   "metadata": {},
   "outputs": [],
   "source": [
    "df['OS'] = df['OS'].apply(get_os)"
   ]
  },
  {
   "cell_type": "markdown",
   "id": "b3d8e734",
   "metadata": {},
   "source": [
    "### CPU"
   ]
  },
  {
   "cell_type": "markdown",
   "id": "bcfca12f",
   "metadata": {},
   "source": [
    "Get the number of processor cores (Octa core, Hexa core... etc.)"
   ]
  },
  {
   "cell_type": "code",
   "execution_count": 33,
   "id": "816e078f",
   "metadata": {},
   "outputs": [],
   "source": [
    "df['CPU'] = df['CPU'].astype(str).apply(get_cpu)"
   ]
  },
  {
   "cell_type": "markdown",
   "id": "6028b51e",
   "metadata": {},
   "source": [
    "### RAM"
   ]
  },
  {
   "cell_type": "markdown",
   "id": "b89c73c3",
   "metadata": {},
   "source": [
    "Get the amount of RAM storage (measured in GBs and MBs)"
   ]
  },
  {
   "cell_type": "code",
   "execution_count": 34,
   "id": "22d873ad",
   "metadata": {},
   "outputs": [],
   "source": [
    "df['RAM'] = df['RAM'].apply(get_memory)"
   ]
  },
  {
   "cell_type": "markdown",
   "id": "f2e1a0b0",
   "metadata": {},
   "source": [
    "### Display Type"
   ]
  },
  {
   "cell_type": "markdown",
   "id": "d43535e3",
   "metadata": {},
   "source": [
    "Get the type of display (LCD, OLED... etc.) and group others"
   ]
  },
  {
   "cell_type": "code",
   "execution_count": 35,
   "id": "1529d63b",
   "metadata": {},
   "outputs": [],
   "source": [
    "df['Display Type'] = df['Display Type'].apply(get_disp_type)"
   ]
  },
  {
   "cell_type": "markdown",
   "id": "2541ade9",
   "metadata": {},
   "source": [
    "### Screen Size"
   ]
  },
  {
   "cell_type": "markdown",
   "id": "ca54d74b",
   "metadata": {},
   "source": [
    "Format the screen size and return it as a float"
   ]
  },
  {
   "cell_type": "code",
   "execution_count": 36,
   "id": "f9c9e6be",
   "metadata": {},
   "outputs": [],
   "source": [
    "df['Screen Size'] = df['Screen Size'].apply(get_screen_size)"
   ]
  },
  {
   "cell_type": "markdown",
   "id": "63ea00a9",
   "metadata": {},
   "source": [
    "### Screen to Body Ratio"
   ]
  },
  {
   "cell_type": "markdown",
   "id": "cbea1884",
   "metadata": {},
   "source": [
    "Format screen to body ratio and return it as a float"
   ]
  },
  {
   "cell_type": "code",
   "execution_count": 37,
   "id": "137430d7",
   "metadata": {},
   "outputs": [],
   "source": [
    "df['Screen to Body Ratio'] = df['Screen to Body Ratio'].apply(get_screen_body_ratio)"
   ]
  },
  {
   "cell_type": "markdown",
   "id": "2be220dd",
   "metadata": {},
   "source": [
    "### Refresh Rate"
   ]
  },
  {
   "cell_type": "markdown",
   "id": "cafbd87c",
   "metadata": {},
   "source": [
    "Get the refresh rate (60 Hz, 120 Hz... etc.) and group others"
   ]
  },
  {
   "cell_type": "code",
   "execution_count": 38,
   "id": "8ca964eb",
   "metadata": {},
   "outputs": [],
   "source": [
    "df['Refresh Rate'] = df['Refresh Rate'].apply(get_refresh_rate)"
   ]
  },
  {
   "cell_type": "markdown",
   "id": "012068e1",
   "metadata": {},
   "source": [
    "### Height"
   ]
  },
  {
   "cell_type": "markdown",
   "id": "573721cf",
   "metadata": {},
   "source": [
    "Format height and return it as a float"
   ]
  },
  {
   "cell_type": "code",
   "execution_count": 39,
   "id": "3488dae9",
   "metadata": {},
   "outputs": [],
   "source": [
    "df['Height'] = df['Height'].apply(get_dimensions)"
   ]
  },
  {
   "cell_type": "markdown",
   "id": "87a4a398",
   "metadata": {},
   "source": [
    "### Width"
   ]
  },
  {
   "cell_type": "markdown",
   "id": "88886ad5",
   "metadata": {},
   "source": [
    "Format width and return it as a float"
   ]
  },
  {
   "cell_type": "code",
   "execution_count": 40,
   "id": "03dbcec8",
   "metadata": {},
   "outputs": [],
   "source": [
    "df['Width'] = df['Width'].apply(get_dimensions)"
   ]
  },
  {
   "cell_type": "markdown",
   "id": "5054c77e",
   "metadata": {},
   "source": [
    "### Thickness"
   ]
  },
  {
   "cell_type": "markdown",
   "id": "eca8fd93",
   "metadata": {},
   "source": [
    "Format thickness and return it as a float"
   ]
  },
  {
   "cell_type": "code",
   "execution_count": 41,
   "id": "67df10e5",
   "metadata": {},
   "outputs": [],
   "source": [
    "df['Thickness'] = df['Thickness'].apply(get_dimensions)"
   ]
  },
  {
   "cell_type": "markdown",
   "id": "9f6dec04",
   "metadata": {},
   "source": [
    "### SIM Slot(s)"
   ]
  },
  {
   "cell_type": "markdown",
   "id": "f79802bb",
   "metadata": {},
   "source": [
    "Get the number of sim slots (Single, Dual... etc.)"
   ]
  },
  {
   "cell_type": "code",
   "execution_count": 42,
   "id": "a3830181",
   "metadata": {},
   "outputs": [],
   "source": [
    "df['SIM Slot(s)'] = df['SIM Slot(s)'].apply(get_sim_slots)"
   ]
  },
  {
   "cell_type": "markdown",
   "id": "bef14160",
   "metadata": {},
   "source": [
    "### Network Support"
   ]
  },
  {
   "cell_type": "markdown",
   "id": "8c62b41f",
   "metadata": {},
   "source": [
    "Get the type of network support"
   ]
  },
  {
   "cell_type": "code",
   "execution_count": 43,
   "id": "31265136",
   "metadata": {},
   "outputs": [],
   "source": [
    "df['Network Support'] = df['Network Support'].apply(get_network)"
   ]
  },
  {
   "cell_type": "markdown",
   "id": "1b7a2c77",
   "metadata": {},
   "source": [
    "### Internal Memory"
   ]
  },
  {
   "cell_type": "markdown",
   "id": "e0ed623f",
   "metadata": {},
   "source": [
    "Get the amount of interal storage (measured in GBs and MBs)"
   ]
  },
  {
   "cell_type": "code",
   "execution_count": 44,
   "id": "bd5bd6fa",
   "metadata": {},
   "outputs": [],
   "source": [
    "df['Internal Memory'] = df['Internal Memory'].astype(str).apply(get_memory)"
   ]
  },
  {
   "cell_type": "markdown",
   "id": "45425c5d",
   "metadata": {},
   "source": [
    "### Image Resolution"
   ]
  },
  {
   "cell_type": "markdown",
   "id": "e98d7f34",
   "metadata": {},
   "source": [
    "Get the image resolution (measured in pixels)"
   ]
  },
  {
   "cell_type": "code",
   "execution_count": 45,
   "id": "8468d154",
   "metadata": {},
   "outputs": [],
   "source": [
    "df['Image Resolution'] = df['Image Resolution'].astype(str).apply(get_image_res) "
   ]
  },
  {
   "cell_type": "markdown",
   "id": "1b36c0f8",
   "metadata": {},
   "source": [
    "### Build Material"
   ]
  },
  {
   "cell_type": "markdown",
   "id": "dc0957cf",
   "metadata": {},
   "source": [
    "Get the build material (Aluminium, Glass... etc.) and group others"
   ]
  },
  {
   "cell_type": "code",
   "execution_count": 46,
   "id": "c6211ea4",
   "metadata": {},
   "outputs": [],
   "source": [
    "df['Material'] = df['Material'].str.upper()\n",
    "df['Material'] = df['Material'].astype(str).apply(get_material)"
   ]
  },
  {
   "cell_type": "markdown",
   "id": "8e69073e",
   "metadata": {},
   "source": [
    "### Weight"
   ]
  },
  {
   "cell_type": "markdown",
   "id": "be99c94f",
   "metadata": {},
   "source": [
    "Extract the weight and return it as a float"
   ]
  },
  {
   "cell_type": "code",
   "execution_count": 47,
   "id": "0b8bd2c4",
   "metadata": {},
   "outputs": [],
   "source": [
    "df = df.assign(Weight = lambda x: x['Weight'].str.extract('(\\d+)'))\n",
    "df[\"Weight\"] = pd.to_numeric(df[\"Weight\"], downcast=\"float\")"
   ]
  },
  {
   "cell_type": "markdown",
   "id": "632233bd",
   "metadata": {},
   "source": [
    "### Battery Capacity"
   ]
  },
  {
   "cell_type": "markdown",
   "id": "c4c34e27",
   "metadata": {},
   "source": [
    "Extract the battery capacity and return it as a float"
   ]
  },
  {
   "cell_type": "code",
   "execution_count": 48,
   "id": "9036e834",
   "metadata": {},
   "outputs": [],
   "source": [
    "df = df.assign(Capacity= lambda x: x['Capacity'].str.extract('(\\d+)'))\n",
    "df[\"Capacity\"] = pd.to_numeric(df[\"Capacity\"], downcast=\"float\")"
   ]
  },
  {
   "cell_type": "markdown",
   "id": "b603fac0",
   "metadata": {},
   "source": [
    "### Columns with (Yes/No) values"
   ]
  },
  {
   "cell_type": "markdown",
   "id": "6cc76bb3",
   "metadata": {},
   "source": [
    "Each of the columns below hold Yes, No, and NaN values. A function is used to clean the data and return either Yes or No depending on the values."
   ]
  },
  {
   "cell_type": "markdown",
   "id": "22422625",
   "metadata": {},
   "source": [
    "- Camera Autofocus\n",
    "- Camera Flash\n",
    "- Loudspeaker\n",
    "- Waterproof\n",
    "- Wireless Charging\n",
    "- Fingerprint Sensor\n",
    "- NFC\n",
    "- GPS\n",
    "- Bluetooth\n",
    "- FM Radio\n",
    "- Removable Battery\n",
    "- Quick Charging\n",
    "- Wi-Fi\n",
    "- USB Type-C\n",
    "- Expandable Memory\n",
    "- Touch Screen\n",
    "- VoLTE (Voice over LTE)\n",
    "- Heart Rate Monitor"
   ]
  },
  {
   "cell_type": "code",
   "execution_count": 49,
   "id": "64d136c3",
   "metadata": {},
   "outputs": [],
   "source": [
    "df[['Camera Autofocus', 'Camera Flash', 'Loudspeaker', 'Waterproof', 'Wireless Charging', 'Fingerprint Sensor',\n",
    "    'NFC', 'GPS', 'Bluetooth', 'FM Radio', 'Removable Battery', 'Quick Charging', 'Wi-Fi', 'USB Type-C', 'Expandable Memory',\n",
    "    'Touch Screen', 'VoLTE', 'Heart Rate Monitor']] = df[['Camera Autofocus', 'Camera Flash', 'Loudspeaker', 'Waterproof', 'Wireless Charging', 'Fingerprint Sensor',\n",
    "    'NFC', 'GPS', 'Bluetooth', 'FM Radio', 'Removable Battery', 'Quick Charging', 'Wi-Fi', 'USB Type-C', 'Expandable Memory',\n",
    "    'Touch Screen', 'VoLTE', 'Heart Rate Monitor']].apply(get_yes_no)"
   ]
  },
  {
   "cell_type": "markdown",
   "id": "f1503950",
   "metadata": {},
   "source": [
    "# "
   ]
  },
  {
   "cell_type": "code",
   "execution_count": 50,
   "id": "57406445",
   "metadata": {
    "scrolled": false
   },
   "outputs": [
    {
     "data": {
      "text/html": [
       "<div>\n",
       "<style scoped>\n",
       "    .dataframe tbody tr th:only-of-type {\n",
       "        vertical-align: middle;\n",
       "    }\n",
       "\n",
       "    .dataframe tbody tr th {\n",
       "        vertical-align: top;\n",
       "    }\n",
       "\n",
       "    .dataframe thead th {\n",
       "        text-align: right;\n",
       "    }\n",
       "</style>\n",
       "<table border=\"1\" class=\"dataframe\">\n",
       "  <thead>\n",
       "    <tr style=\"text-align: right;\">\n",
       "      <th></th>\n",
       "      <th>Brand</th>\n",
       "      <th>Price</th>\n",
       "      <th>Launch Year</th>\n",
       "      <th>OS</th>\n",
       "      <th>CPU</th>\n",
       "      <th>CPU Architecture</th>\n",
       "      <th>RAM</th>\n",
       "      <th>Display Type</th>\n",
       "      <th>Screen Size</th>\n",
       "      <th>Screen to Body Ratio</th>\n",
       "      <th>...</th>\n",
       "      <th>Wi-Fi</th>\n",
       "      <th>Bluetooth</th>\n",
       "      <th>GPS</th>\n",
       "      <th>NFC</th>\n",
       "      <th>FM Radio</th>\n",
       "      <th>Loudspeaker</th>\n",
       "      <th>Fingerprint Sensor</th>\n",
       "      <th>Waterproof</th>\n",
       "      <th>Wireless Charging</th>\n",
       "      <th>Heart Rate Monitor</th>\n",
       "    </tr>\n",
       "  </thead>\n",
       "  <tbody>\n",
       "    <tr>\n",
       "      <th>0</th>\n",
       "      <td>Samsung</td>\n",
       "      <td>17999.0</td>\n",
       "      <td>2021</td>\n",
       "      <td>Android</td>\n",
       "      <td>Octa core</td>\n",
       "      <td>64 bit</td>\n",
       "      <td>6 GB</td>\n",
       "      <td>Other</td>\n",
       "      <td>6.70</td>\n",
       "      <td>86.66</td>\n",
       "      <td>...</td>\n",
       "      <td>Yes</td>\n",
       "      <td>Yes</td>\n",
       "      <td>Yes</td>\n",
       "      <td>No</td>\n",
       "      <td>No</td>\n",
       "      <td>Yes</td>\n",
       "      <td>Yes</td>\n",
       "      <td>Yes</td>\n",
       "      <td>Yes</td>\n",
       "      <td>Yes</td>\n",
       "    </tr>\n",
       "    <tr>\n",
       "      <th>1</th>\n",
       "      <td>Xiaomi</td>\n",
       "      <td>11999.0</td>\n",
       "      <td>2021</td>\n",
       "      <td>Android</td>\n",
       "      <td>Octa core</td>\n",
       "      <td>64 bit</td>\n",
       "      <td>4 GB</td>\n",
       "      <td>IPS LCD</td>\n",
       "      <td>6.50</td>\n",
       "      <td>83.45</td>\n",
       "      <td>...</td>\n",
       "      <td>Yes</td>\n",
       "      <td>Yes</td>\n",
       "      <td>Yes</td>\n",
       "      <td>No</td>\n",
       "      <td>No</td>\n",
       "      <td>Yes</td>\n",
       "      <td>Yes</td>\n",
       "      <td>Yes</td>\n",
       "      <td>Yes</td>\n",
       "      <td>Yes</td>\n",
       "    </tr>\n",
       "    <tr>\n",
       "      <th>2</th>\n",
       "      <td>Samsung</td>\n",
       "      <td>12999.0</td>\n",
       "      <td>2021</td>\n",
       "      <td>Android</td>\n",
       "      <td>Octa core</td>\n",
       "      <td>64 bit</td>\n",
       "      <td>4 GB</td>\n",
       "      <td>Super AMOLED</td>\n",
       "      <td>6.40</td>\n",
       "      <td>83.89</td>\n",
       "      <td>...</td>\n",
       "      <td>Yes</td>\n",
       "      <td>Yes</td>\n",
       "      <td>Yes</td>\n",
       "      <td>No</td>\n",
       "      <td>No</td>\n",
       "      <td>Yes</td>\n",
       "      <td>Yes</td>\n",
       "      <td>Yes</td>\n",
       "      <td>Yes</td>\n",
       "      <td>Yes</td>\n",
       "    </tr>\n",
       "    <tr>\n",
       "      <th>3</th>\n",
       "      <td>Realme</td>\n",
       "      <td>13199.0</td>\n",
       "      <td>2021</td>\n",
       "      <td>Android</td>\n",
       "      <td>Octa core</td>\n",
       "      <td>64 bit</td>\n",
       "      <td>4 GB</td>\n",
       "      <td>IPS LCD</td>\n",
       "      <td>6.60</td>\n",
       "      <td>84.88</td>\n",
       "      <td>...</td>\n",
       "      <td>Yes</td>\n",
       "      <td>Yes</td>\n",
       "      <td>Yes</td>\n",
       "      <td>No</td>\n",
       "      <td>No</td>\n",
       "      <td>Yes</td>\n",
       "      <td>Yes</td>\n",
       "      <td>Yes</td>\n",
       "      <td>Yes</td>\n",
       "      <td>Yes</td>\n",
       "    </tr>\n",
       "    <tr>\n",
       "      <th>4</th>\n",
       "      <td>Xiaomi</td>\n",
       "      <td>13999.0</td>\n",
       "      <td>2021</td>\n",
       "      <td>Android</td>\n",
       "      <td>Octa core</td>\n",
       "      <td>64 bit</td>\n",
       "      <td>6 GB</td>\n",
       "      <td>AMOLED</td>\n",
       "      <td>6.43</td>\n",
       "      <td>83.53</td>\n",
       "      <td>...</td>\n",
       "      <td>Yes</td>\n",
       "      <td>Yes</td>\n",
       "      <td>Yes</td>\n",
       "      <td>No</td>\n",
       "      <td>No</td>\n",
       "      <td>Yes</td>\n",
       "      <td>Yes</td>\n",
       "      <td>Yes</td>\n",
       "      <td>Yes</td>\n",
       "      <td>Yes</td>\n",
       "    </tr>\n",
       "    <tr>\n",
       "      <th>...</th>\n",
       "      <td>...</td>\n",
       "      <td>...</td>\n",
       "      <td>...</td>\n",
       "      <td>...</td>\n",
       "      <td>...</td>\n",
       "      <td>...</td>\n",
       "      <td>...</td>\n",
       "      <td>...</td>\n",
       "      <td>...</td>\n",
       "      <td>...</td>\n",
       "      <td>...</td>\n",
       "      <td>...</td>\n",
       "      <td>...</td>\n",
       "      <td>...</td>\n",
       "      <td>...</td>\n",
       "      <td>...</td>\n",
       "      <td>...</td>\n",
       "      <td>...</td>\n",
       "      <td>...</td>\n",
       "      <td>...</td>\n",
       "      <td>...</td>\n",
       "    </tr>\n",
       "    <tr>\n",
       "      <th>2653</th>\n",
       "      <td>Other</td>\n",
       "      <td>18990.0</td>\n",
       "      <td>2021</td>\n",
       "      <td>Android</td>\n",
       "      <td>Octa core</td>\n",
       "      <td>64 bit</td>\n",
       "      <td>6 GB</td>\n",
       "      <td>IPS LCD</td>\n",
       "      <td>6.67</td>\n",
       "      <td>84.13</td>\n",
       "      <td>...</td>\n",
       "      <td>Yes</td>\n",
       "      <td>Yes</td>\n",
       "      <td>Yes</td>\n",
       "      <td>No</td>\n",
       "      <td>No</td>\n",
       "      <td>Yes</td>\n",
       "      <td>Yes</td>\n",
       "      <td>Yes</td>\n",
       "      <td>Yes</td>\n",
       "      <td>Yes</td>\n",
       "    </tr>\n",
       "    <tr>\n",
       "      <th>2654</th>\n",
       "      <td>Other</td>\n",
       "      <td>40690.0</td>\n",
       "      <td>2021</td>\n",
       "      <td>Android</td>\n",
       "      <td>Octa core</td>\n",
       "      <td>64 bit</td>\n",
       "      <td>8 GB</td>\n",
       "      <td>AMOLED</td>\n",
       "      <td>6.65</td>\n",
       "      <td>82.42</td>\n",
       "      <td>...</td>\n",
       "      <td>Yes</td>\n",
       "      <td>Yes</td>\n",
       "      <td>Yes</td>\n",
       "      <td>No</td>\n",
       "      <td>No</td>\n",
       "      <td>Yes</td>\n",
       "      <td>Yes</td>\n",
       "      <td>Yes</td>\n",
       "      <td>Yes</td>\n",
       "      <td>Yes</td>\n",
       "    </tr>\n",
       "    <tr>\n",
       "      <th>2655</th>\n",
       "      <td>Other</td>\n",
       "      <td>52590.0</td>\n",
       "      <td>2021</td>\n",
       "      <td>Android</td>\n",
       "      <td>Octa core</td>\n",
       "      <td>64 bit</td>\n",
       "      <td>8 GB</td>\n",
       "      <td>Super AMOLED</td>\n",
       "      <td>6.70</td>\n",
       "      <td>91.36</td>\n",
       "      <td>...</td>\n",
       "      <td>Yes</td>\n",
       "      <td>Yes</td>\n",
       "      <td>Yes</td>\n",
       "      <td>No</td>\n",
       "      <td>No</td>\n",
       "      <td>Yes</td>\n",
       "      <td>Yes</td>\n",
       "      <td>Yes</td>\n",
       "      <td>Yes</td>\n",
       "      <td>Yes</td>\n",
       "    </tr>\n",
       "    <tr>\n",
       "      <th>2656</th>\n",
       "      <td>Other</td>\n",
       "      <td>30490.0</td>\n",
       "      <td>2021</td>\n",
       "      <td>Android</td>\n",
       "      <td>Octa core</td>\n",
       "      <td>64 bit</td>\n",
       "      <td>8 GB</td>\n",
       "      <td>AMOLED</td>\n",
       "      <td>6.44</td>\n",
       "      <td>84.98</td>\n",
       "      <td>...</td>\n",
       "      <td>Yes</td>\n",
       "      <td>Yes</td>\n",
       "      <td>Yes</td>\n",
       "      <td>No</td>\n",
       "      <td>No</td>\n",
       "      <td>Yes</td>\n",
       "      <td>Yes</td>\n",
       "      <td>Yes</td>\n",
       "      <td>Yes</td>\n",
       "      <td>Yes</td>\n",
       "    </tr>\n",
       "    <tr>\n",
       "      <th>2657</th>\n",
       "      <td>Other</td>\n",
       "      <td>24999.0</td>\n",
       "      <td>2021</td>\n",
       "      <td>Android</td>\n",
       "      <td>Octa core</td>\n",
       "      <td>64 bit</td>\n",
       "      <td>4 GB</td>\n",
       "      <td>OLED</td>\n",
       "      <td>6.10</td>\n",
       "      <td>83.17</td>\n",
       "      <td>...</td>\n",
       "      <td>Yes</td>\n",
       "      <td>Yes</td>\n",
       "      <td>Yes</td>\n",
       "      <td>No</td>\n",
       "      <td>No</td>\n",
       "      <td>Yes</td>\n",
       "      <td>Yes</td>\n",
       "      <td>Yes</td>\n",
       "      <td>Yes</td>\n",
       "      <td>Yes</td>\n",
       "    </tr>\n",
       "  </tbody>\n",
       "</table>\n",
       "<p>2658 rows × 43 columns</p>\n",
       "</div>"
      ],
      "text/plain": [
       "        Brand    Price  Launch Year       OS        CPU CPU Architecture  \\\n",
       "0     Samsung  17999.0         2021  Android  Octa core           64 bit   \n",
       "1      Xiaomi  11999.0         2021  Android  Octa core           64 bit   \n",
       "2     Samsung  12999.0         2021  Android  Octa core           64 bit   \n",
       "3      Realme  13199.0         2021  Android  Octa core           64 bit   \n",
       "4      Xiaomi  13999.0         2021  Android  Octa core           64 bit   \n",
       "...       ...      ...          ...      ...        ...              ...   \n",
       "2653    Other  18990.0         2021  Android  Octa core           64 bit   \n",
       "2654    Other  40690.0         2021  Android  Octa core           64 bit   \n",
       "2655    Other  52590.0         2021  Android  Octa core           64 bit   \n",
       "2656    Other  30490.0         2021  Android  Octa core           64 bit   \n",
       "2657    Other  24999.0         2021  Android  Octa core           64 bit   \n",
       "\n",
       "       RAM  Display Type  Screen Size  Screen to Body Ratio  ... Wi-Fi  \\\n",
       "0     6 GB         Other         6.70                 86.66  ...   Yes   \n",
       "1     4 GB       IPS LCD         6.50                 83.45  ...   Yes   \n",
       "2     4 GB  Super AMOLED         6.40                 83.89  ...   Yes   \n",
       "3     4 GB       IPS LCD         6.60                 84.88  ...   Yes   \n",
       "4     6 GB        AMOLED         6.43                 83.53  ...   Yes   \n",
       "...    ...           ...          ...                   ...  ...   ...   \n",
       "2653  6 GB       IPS LCD         6.67                 84.13  ...   Yes   \n",
       "2654  8 GB        AMOLED         6.65                 82.42  ...   Yes   \n",
       "2655  8 GB  Super AMOLED         6.70                 91.36  ...   Yes   \n",
       "2656  8 GB        AMOLED         6.44                 84.98  ...   Yes   \n",
       "2657  4 GB          OLED         6.10                 83.17  ...   Yes   \n",
       "\n",
       "     Bluetooth  GPS  NFC  FM Radio  Loudspeaker Fingerprint Sensor Waterproof  \\\n",
       "0          Yes  Yes   No        No          Yes                Yes        Yes   \n",
       "1          Yes  Yes   No        No          Yes                Yes        Yes   \n",
       "2          Yes  Yes   No        No          Yes                Yes        Yes   \n",
       "3          Yes  Yes   No        No          Yes                Yes        Yes   \n",
       "4          Yes  Yes   No        No          Yes                Yes        Yes   \n",
       "...        ...  ...  ...       ...          ...                ...        ...   \n",
       "2653       Yes  Yes   No        No          Yes                Yes        Yes   \n",
       "2654       Yes  Yes   No        No          Yes                Yes        Yes   \n",
       "2655       Yes  Yes   No        No          Yes                Yes        Yes   \n",
       "2656       Yes  Yes   No        No          Yes                Yes        Yes   \n",
       "2657       Yes  Yes   No        No          Yes                Yes        Yes   \n",
       "\n",
       "     Wireless Charging Heart Rate Monitor  \n",
       "0                  Yes                Yes  \n",
       "1                  Yes                Yes  \n",
       "2                  Yes                Yes  \n",
       "3                  Yes                Yes  \n",
       "4                  Yes                Yes  \n",
       "...                ...                ...  \n",
       "2653               Yes                Yes  \n",
       "2654               Yes                Yes  \n",
       "2655               Yes                Yes  \n",
       "2656               Yes                Yes  \n",
       "2657               Yes                Yes  \n",
       "\n",
       "[2658 rows x 43 columns]"
      ]
     },
     "execution_count": 50,
     "metadata": {},
     "output_type": "execute_result"
    }
   ],
   "source": [
    "df"
   ]
  },
  {
   "cell_type": "markdown",
   "id": "82a7aea7",
   "metadata": {},
   "source": [
    "### Save the DataFrame to csv file"
   ]
  },
  {
   "cell_type": "code",
   "execution_count": 20,
   "id": "31439e21",
   "metadata": {},
   "outputs": [],
   "source": [
    "df.to_csv('Phone_Price.csv', index=False)"
   ]
  }
 ],
 "metadata": {
  "kernelspec": {
   "display_name": "Python 3",
   "language": "python",
   "name": "python3"
  },
  "language_info": {
   "codemirror_mode": {
    "name": "ipython",
    "version": 3
   },
   "file_extension": ".py",
   "mimetype": "text/x-python",
   "name": "python",
   "nbconvert_exporter": "python",
   "pygments_lexer": "ipython3",
   "version": "3.8.8"
  }
 },
 "nbformat": 4,
 "nbformat_minor": 5
}
